{
 "cells": [
  {
   "cell_type": "code",
   "execution_count": 2,
   "metadata": {},
   "outputs": [],
   "source": [
    "from neuralnetwork import *\n",
    "import pandas as pd\n",
    "from sklearn.model_selection import train_test_split"
   ]
  },
  {
   "cell_type": "code",
   "execution_count": 3,
   "metadata": {},
   "outputs": [
    {
     "data": {
      "text/html": [
       "<div>\n",
       "<style scoped>\n",
       "    .dataframe tbody tr th:only-of-type {\n",
       "        vertical-align: middle;\n",
       "    }\n",
       "\n",
       "    .dataframe tbody tr th {\n",
       "        vertical-align: top;\n",
       "    }\n",
       "\n",
       "    .dataframe thead th {\n",
       "        text-align: right;\n",
       "    }\n",
       "</style>\n",
       "<table border=\"1\" class=\"dataframe\">\n",
       "  <thead>\n",
       "    <tr style=\"text-align: right;\">\n",
       "      <th></th>\n",
       "      <th>Clump Thickness</th>\n",
       "      <th>Uniformity of Cell Size</th>\n",
       "      <th>Uniformity of Cell Shape</th>\n",
       "      <th>Marginal Adhesion</th>\n",
       "      <th>Single Epithelial Cell Size</th>\n",
       "      <th>Bare Nuclei</th>\n",
       "      <th>Bland Chromatin</th>\n",
       "      <th>Normal Nucleoli</th>\n",
       "      <th>Mitoses</th>\n",
       "      <th>Class</th>\n",
       "    </tr>\n",
       "  </thead>\n",
       "  <tbody>\n",
       "    <tr>\n",
       "      <th>0</th>\n",
       "      <td>5</td>\n",
       "      <td>1</td>\n",
       "      <td>1</td>\n",
       "      <td>1</td>\n",
       "      <td>2</td>\n",
       "      <td>1</td>\n",
       "      <td>3</td>\n",
       "      <td>1</td>\n",
       "      <td>1</td>\n",
       "      <td>2</td>\n",
       "    </tr>\n",
       "    <tr>\n",
       "      <th>1</th>\n",
       "      <td>5</td>\n",
       "      <td>4</td>\n",
       "      <td>4</td>\n",
       "      <td>5</td>\n",
       "      <td>7</td>\n",
       "      <td>10</td>\n",
       "      <td>3</td>\n",
       "      <td>2</td>\n",
       "      <td>1</td>\n",
       "      <td>2</td>\n",
       "    </tr>\n",
       "    <tr>\n",
       "      <th>2</th>\n",
       "      <td>3</td>\n",
       "      <td>1</td>\n",
       "      <td>1</td>\n",
       "      <td>1</td>\n",
       "      <td>2</td>\n",
       "      <td>2</td>\n",
       "      <td>3</td>\n",
       "      <td>1</td>\n",
       "      <td>1</td>\n",
       "      <td>2</td>\n",
       "    </tr>\n",
       "    <tr>\n",
       "      <th>3</th>\n",
       "      <td>6</td>\n",
       "      <td>8</td>\n",
       "      <td>8</td>\n",
       "      <td>1</td>\n",
       "      <td>3</td>\n",
       "      <td>4</td>\n",
       "      <td>3</td>\n",
       "      <td>7</td>\n",
       "      <td>1</td>\n",
       "      <td>2</td>\n",
       "    </tr>\n",
       "    <tr>\n",
       "      <th>4</th>\n",
       "      <td>4</td>\n",
       "      <td>1</td>\n",
       "      <td>1</td>\n",
       "      <td>3</td>\n",
       "      <td>2</td>\n",
       "      <td>1</td>\n",
       "      <td>3</td>\n",
       "      <td>1</td>\n",
       "      <td>1</td>\n",
       "      <td>2</td>\n",
       "    </tr>\n",
       "  </tbody>\n",
       "</table>\n",
       "</div>"
      ],
      "text/plain": [
       "   Clump Thickness  Uniformity of Cell Size  Uniformity of Cell Shape  \\\n",
       "0                5                        1                         1   \n",
       "1                5                        4                         4   \n",
       "2                3                        1                         1   \n",
       "3                6                        8                         8   \n",
       "4                4                        1                         1   \n",
       "\n",
       "   Marginal Adhesion  Single Epithelial Cell Size  Bare Nuclei  \\\n",
       "0                  1                            2            1   \n",
       "1                  5                            7           10   \n",
       "2                  1                            2            2   \n",
       "3                  1                            3            4   \n",
       "4                  3                            2            1   \n",
       "\n",
       "   Bland Chromatin  Normal Nucleoli  Mitoses  Class  \n",
       "0                3                1        1      2  \n",
       "1                3                2        1      2  \n",
       "2                3                1        1      2  \n",
       "3                3                7        1      2  \n",
       "4                3                1        1      2  "
      ]
     },
     "execution_count": 3,
     "metadata": {},
     "output_type": "execute_result"
    }
   ],
   "source": [
    "data = pd.read_csv('breast_cancer.csv')\n",
    "data.head()"
   ]
  },
  {
   "cell_type": "code",
   "execution_count": 4,
   "metadata": {},
   "outputs": [
    {
     "data": {
      "text/plain": [
       "array([0, 1], dtype=int64)"
      ]
     },
     "execution_count": 4,
     "metadata": {},
     "output_type": "execute_result"
    }
   ],
   "source": [
    "data['Class'] = data['Class'] // 4\n",
    "data['Class'].unique()"
   ]
  },
  {
   "cell_type": "code",
   "execution_count": 5,
   "metadata": {},
   "outputs": [
    {
     "name": "stdout",
     "output_type": "stream",
     "text": [
      "x =\n",
      "      Clump Thickness  Uniformity of Cell Size  Uniformity of Cell Shape  \\\n",
      "0                  5                        1                         1   \n",
      "1                  5                        4                         4   \n",
      "2                  3                        1                         1   \n",
      "3                  6                        8                         8   \n",
      "4                  4                        1                         1   \n",
      "..               ...                      ...                       ...   \n",
      "678                3                        1                         1   \n",
      "679                2                        1                         1   \n",
      "680                5                       10                        10   \n",
      "681                4                        8                         6   \n",
      "682                4                        8                         8   \n",
      "\n",
      "     Marginal Adhesion  Single Epithelial Cell Size  Bare Nuclei  \\\n",
      "0                    1                            2            1   \n",
      "1                    5                            7           10   \n",
      "2                    1                            2            2   \n",
      "3                    1                            3            4   \n",
      "4                    3                            2            1   \n",
      "..                 ...                          ...          ...   \n",
      "678                  1                            3            2   \n",
      "679                  1                            2            1   \n",
      "680                  3                            7            3   \n",
      "681                  4                            3            4   \n",
      "682                  5                            4            5   \n",
      "\n",
      "     Bland Chromatin  Normal Nucleoli  Mitoses  \n",
      "0                  3                1        1  \n",
      "1                  3                2        1  \n",
      "2                  3                1        1  \n",
      "3                  3                7        1  \n",
      "4                  3                1        1  \n",
      "..               ...              ...      ...  \n",
      "678                1                1        1  \n",
      "679                1                1        1  \n",
      "680                8               10        2  \n",
      "681               10                6        1  \n",
      "682               10                4        1  \n",
      "\n",
      "[683 rows x 9 columns]\n",
      "\n",
      "y = 0      0\n",
      "1      0\n",
      "2      0\n",
      "3      0\n",
      "4      0\n",
      "      ..\n",
      "678    0\n",
      "679    0\n",
      "680    1\n",
      "681    1\n",
      "682    1\n",
      "Name: Class, Length: 683, dtype: int64\n"
     ]
    }
   ],
   "source": [
    "x = data.drop(columns=['Class'])\n",
    "y = data['Class']\n",
    "print('x =\\n', x)\n",
    "print('\\ny =', y)"
   ]
  },
  {
   "cell_type": "code",
   "execution_count": 6,
   "metadata": {},
   "outputs": [
    {
     "data": {
      "text/plain": [
       "(     Clump Thickness  Uniformity of Cell Size  Uniformity of Cell Shape  \\\n",
       " 383                4                        1                         1   \n",
       " 387                3                        1                         1   \n",
       " 153                2                        1                         1   \n",
       " 357                1                        1                         3   \n",
       " 335                4                        2                         3   \n",
       " ..               ...                      ...                       ...   \n",
       " 562                1                        1                         1   \n",
       " 636                5                        1                         1   \n",
       " 206                1                        1                         1   \n",
       " 577               10                        3                         4   \n",
       " 247                5                        6                         6   \n",
       " \n",
       "      Marginal Adhesion  Single Epithelial Cell Size  Bare Nuclei  \\\n",
       " 383                  1                            2            1   \n",
       " 387                  1                            2            1   \n",
       " 153                  1                            2            1   \n",
       " 357                  1                            2            1   \n",
       " 335                  5                            3            8   \n",
       " ..                 ...                          ...          ...   \n",
       " 562                  1                            2            1   \n",
       " 636                  1                            2            1   \n",
       " 206                  1                            2            1   \n",
       " 577                  5                            3           10   \n",
       " 247                  2                            4           10   \n",
       " \n",
       "      Bland Chromatin  Normal Nucleoli  Mitoses  \n",
       " 383                1                1        1  \n",
       " 387                1                1        1  \n",
       " 153                3                1        1  \n",
       " 357                1                1        1  \n",
       " 335                7                6        1  \n",
       " ..               ...              ...      ...  \n",
       " 562                2                1        1  \n",
       " 636                2                2        1  \n",
       " 206                3                1        1  \n",
       " 577                4                1        1  \n",
       " 247                3                6        1  \n",
       " \n",
       " [546 rows x 9 columns],\n",
       " 383    0\n",
       " 387    0\n",
       " 153    0\n",
       " 357    0\n",
       " 335    1\n",
       "       ..\n",
       " 562    0\n",
       " 636    0\n",
       " 206    0\n",
       " 577    1\n",
       " 247    1\n",
       " Name: Class, Length: 546, dtype: int64)"
      ]
     },
     "execution_count": 6,
     "metadata": {},
     "output_type": "execute_result"
    }
   ],
   "source": [
    "x_train, x_test, y_train, y_test = train_test_split(x, y, test_size=0.2)\n",
    "x_train, y_train"
   ]
  },
  {
   "cell_type": "code",
   "execution_count": 7,
   "metadata": {},
   "outputs": [],
   "source": [
    "model = DeepNeuralNetwork(Layer(9),\n",
    "                          Layer(18),\n",
    "                          Layer(1, activation_func='sigmoid', train_bias=False))"
   ]
  },
  {
   "cell_type": "markdown",
   "metadata": {},
   "source": [
    "### Weights and bias init"
   ]
  },
  {
   "cell_type": "code",
   "execution_count": 8,
   "metadata": {},
   "outputs": [
    {
     "name": "stdout",
     "output_type": "stream",
     "text": [
      "weight init layers 0= :\n",
      " [[2.65511362e-01 1.91752844e-01 6.85066536e-02 1.70687774e-01\n",
      "  4.79492650e-02 2.47876520e-01 2.00932535e-01 1.92579731e-01\n",
      "  2.41803312e-01 1.56062643e-02 1.46456472e-01 2.26530411e-01\n",
      "  6.94435874e-02 1.84088581e-01 6.99848505e-03 2.43396821e-01\n",
      "  1.17469353e-01 7.11731684e-02]\n",
      " [1.12352289e-01 1.24754257e-02 1.59964895e-01 2.05314531e-02\n",
      "  5.56124079e-03 2.55330756e-01 9.24963895e-02 3.68498121e-02\n",
      "  7.19088093e-03 1.12134004e-01 1.88676938e-01 1.16440504e-01\n",
      "  2.67977439e-01 1.92411505e-01 2.49290517e-01 1.53141145e-01\n",
      "  2.22096288e-01 1.57975194e-01]\n",
      " [8.47329441e-02 3.01600293e-03 1.94366387e-01 6.17773053e-02\n",
      "  1.51859572e-01 5.83051493e-02 2.17286793e-01 1.75058731e-01\n",
      "  1.25909090e-01 1.23056323e-01 7.33062610e-02 1.84266222e-01\n",
      "  4.11595452e-04 1.29634732e-01 1.97720893e-01 2.46315165e-01\n",
      "  6.21161446e-02 9.30514030e-02]\n",
      " [1.81274223e-03 9.13338170e-02 4.72574290e-02 2.03550994e-02\n",
      "  1.09428285e-01 1.91076136e-01 2.39447900e-01 1.08870192e-01\n",
      "  1.79652339e-01 1.50883824e-01 2.32494884e-01 2.15048487e-01\n",
      "  2.10667953e-01 1.46478016e-01 2.44734908e-01 1.55403232e-02\n",
      "  5.46801623e-02 7.22985374e-02]\n",
      " [2.14442248e-01 1.68531169e-01 1.29706666e-01 2.20540947e-01\n",
      "  2.19767698e-01 2.08107989e-01 7.90801556e-02 1.84092739e-01\n",
      "  4.03682035e-02 1.82506787e-01 2.17738854e-01 1.10377903e-04\n",
      "  2.10732362e-01 2.65469664e-01 7.16276172e-02 1.36993163e-01\n",
      "  2.70431077e-01 2.46579131e-02]\n",
      " [2.29350367e-01 5.63663785e-03 1.83547622e-01 1.53291720e-01\n",
      "  1.24892418e-01 2.62038887e-01 6.21992679e-02 3.92106114e-02\n",
      "  2.03514070e-01 4.14350034e-02 1.49649317e-01 1.88563915e-02\n",
      "  1.62925352e-01 5.77449339e-02 1.09672375e-01 1.05665043e-01\n",
      "  1.01354375e-01 1.74589909e-01]\n",
      " [1.05111654e-01 7.37007328e-02 2.06979586e-01 1.27991651e-01\n",
      "  2.55118718e-01 1.42619546e-01 4.45937303e-02 7.91662479e-03\n",
      "  1.81970635e-01 1.27185776e-01 7.26027170e-02 3.74434798e-02\n",
      "  1.03493421e-01 1.82173170e-01 2.42998904e-01 1.83349434e-02\n",
      "  1.47666607e-02 1.09214029e-01]\n",
      " [1.50939229e-01 6.36735479e-02 1.77502412e-01 2.00479174e-01\n",
      "  2.23163810e-02 1.06723457e-01 9.31865598e-03 2.27727241e-01\n",
      "  5.05133467e-02 2.59423343e-01 2.65772894e-01 3.60852910e-02\n",
      "  1.85506265e-01 2.07829886e-01 3.76757349e-05 1.32862784e-01\n",
      "  1.81886256e-01 1.81535363e-02]\n",
      " [1.70495564e-01 1.98422965e-01 2.05308209e-01 2.18311613e-01\n",
      "  1.01125705e-01 9.67244131e-02 2.59455633e-01 2.19148177e-01\n",
      "  1.38029929e-01 2.06699645e-02 7.88740490e-02 1.56316385e-01\n",
      "  1.20829665e-02 1.56987365e-01 2.17687193e-01 4.02840351e-02\n",
      "  9.97278116e-02 1.87377357e-01]]\n",
      "\n",
      "shape of weights = (9, 18)\n",
      "\n",
      "bias init layers 0= \n",
      " [[0.]\n",
      " [0.]\n",
      " [0.]\n",
      " [0.]\n",
      " [0.]\n",
      " [0.]\n",
      " [0.]\n",
      " [0.]\n",
      " [0.]\n",
      " [0.]\n",
      " [0.]\n",
      " [0.]\n",
      " [0.]\n",
      " [0.]\n",
      " [0.]\n",
      " [0.]\n",
      " [0.]\n",
      " [0.]]\n",
      "\n",
      "shape of bias = (18, 1)\n",
      "weight init layers 1= :\n",
      " [[0.14224031]\n",
      " [0.30331868]\n",
      " [0.05798838]\n",
      " [0.2530137 ]\n",
      " [0.15779018]\n",
      " [0.08925188]\n",
      " [0.23694651]\n",
      " [0.13641446]\n",
      " [0.16676564]\n",
      " [0.32422603]\n",
      " [0.04902173]\n",
      " [0.09491574]\n",
      " [0.18905565]\n",
      " [0.14091302]\n",
      " [0.23825153]\n",
      " [0.24920441]\n",
      " [0.09807073]\n",
      " [0.31802512]]\n",
      "\n",
      "shape of weights = (18, 1)\n",
      "\n",
      "bias init layers 1= \n",
      " [[0.]]\n",
      "\n",
      "shape of bias = (1, 1)\n"
     ]
    }
   ],
   "source": [
    "for i in range(model.layers_len-1):\n",
    "    print(f'weight init layers {i}= :\\n', model.weights[i])\n",
    "    print(f'\\nshape of weights = {model.weights[i].shape}')\n",
    "    print(f'\\nbias init layers {i}= \\n', model.layers[i].biases)\n",
    "    print(f'\\nshape of bias = {model.layers[i].biases.shape}')\n",
    "    "
   ]
  },
  {
   "cell_type": "markdown",
   "metadata": {},
   "source": [
    "### Training"
   ]
  },
  {
   "cell_type": "code",
   "execution_count": 9,
   "metadata": {},
   "outputs": [],
   "source": [
    "def fit(x_train, y_train, lr = 0.01, batch_size = 32, epochs = 1000):\n",
    "    N, d = x_train.shape\n",
    "    for it in range(epochs):\n",
    "        rand_id = np.random.choice(N, size=batch_size, replace=False)\n",
    "        for i in rand_id:\n",
    "            xi = np.array([x_train.iloc[i, :]]).T\n",
    "            yi = y_train.iloc[i]\n",
    "            activation_cache, linear_cache = model.forward(xi)\n",
    "            loss = model.calculate_loss(yi, activation_cache[-1])\n",
    "            error = model.error(loss, linear_cache)\n",
    "            # model.backpropagation(error, activation_cache)\n",
    "            model.backpropagation(linear_cache, activation_cache, yi)\n",
    "            model.update(lr = lr)"
   ]
  },
  {
   "cell_type": "code",
   "execution_count": 10,
   "metadata": {},
   "outputs": [],
   "source": [
    "fit(x_train, y_train, lr=0.001, batch_size=32, epochs=1000)"
   ]
  },
  {
   "cell_type": "code",
   "execution_count": 11,
   "metadata": {},
   "outputs": [
    {
     "name": "stdout",
     "output_type": "stream",
     "text": [
      "[0, 0, 0, 0, 1, 1, 1, 0, 0, 1, 1, 0, 1, 0, 0, 1, 1, 1, 1, 0, 0, 1, 0, 0, 1, 1, 0, 1, 0, 0, 0, 0, 1, 1, 1, 1, 0, 0, 0, 0, 0, 1, 0, 1, 1, 0, 1, 0, 0, 1, 0, 0, 0, 0, 0, 1, 0, 0, 0, 0, 0, 0, 1, 1, 0, 0, 1, 1, 1, 0, 1, 0, 0, 0, 0, 1, 0, 0, 0, 0, 0, 1, 1, 0, 0, 1, 0, 0, 0, 0, 1, 0, 0, 1, 0, 0, 0, 0, 0, 0, 1, 1, 0, 0, 0, 0, 0, 0, 0, 0, 1, 0, 0, 0, 0, 0, 1, 0, 1, 0, 0, 1, 0, 0, 0, 0, 0, 1, 0, 1, 0, 1, 1, 0, 0, 0, 0, 0, 1, 0, 0, 0, 0, 0, 1, 0, 1, 0, 0, 0, 0, 0, 1, 0, 1, 1, 1, 1, 1, 1, 1, 0, 0, 0, 1, 0, 0, 1, 0, 0, 0, 0, 0, 1, 0, 1, 1, 1, 0, 1, 0, 0, 0, 0, 0, 1, 0, 0, 1, 0, 0, 1, 0, 0, 0, 0, 0, 0, 0, 0, 0, 0, 0, 1, 0, 0, 0, 0, 0, 0, 0, 1, 0, 1, 1, 1, 0, 0, 1, 1, 1, 1, 1, 0, 1, 1, 0, 0, 1, 1, 0, 0, 1, 0, 0, 0, 0, 1, 0, 0, 0, 1, 0, 0, 1, 0, 1, 0, 0, 0, 0, 0, 1, 0, 0, 0, 0, 0, 0, 0, 1, 0, 0, 0, 0, 0, 0, 1, 0, 1, 1, 0, 0, 0, 1, 1, 0, 0, 1, 1, 0, 1, 1, 0, 1, 0, 1, 1, 0, 0, 0, 1, 0, 0, 0, 0, 1, 0, 1, 0, 1, 0, 0, 0, 0, 0, 0, 0, 1, 0, 0, 0, 0, 0, 0, 0, 0, 1, 0, 1, 0, 1, 0, 0, 0, 0, 0, 1, 1, 1, 0, 1, 1, 1, 0, 0, 0, 1, 0, 1, 0, 1, 0, 0, 1, 0, 0, 0, 0, 0, 1, 1, 1, 1, 0, 0, 1, 0, 1, 0, 1, 0, 0, 0, 0, 1, 0, 0, 0, 0, 1, 0, 1, 0, 0, 0, 0, 0, 0, 0, 1, 0, 1, 1, 0, 0, 0, 0, 0, 1, 0, 0, 0, 0, 0, 1, 0, 0, 0, 1, 0, 0, 0, 0, 0, 1, 1, 0, 0, 1, 1, 0, 0, 0, 0, 1, 1, 0, 1, 0, 1, 1, 0, 1, 1, 0, 1, 1, 1, 0, 0, 0, 0, 0, 1, 0, 0, 0, 0, 1, 0, 1, 0, 0, 0, 0, 0, 0, 1, 1, 0, 0, 0, 0, 0, 0, 1, 0, 0, 0, 0, 0, 1, 1, 1, 1, 0, 0, 1, 0, 0, 1, 1, 1, 0, 0, 1, 1, 0, 0, 0, 1, 1, 0, 0, 0, 1, 0, 1, 1, 1, 0, 0, 1, 0, 1, 0, 1, 0, 0, 0, 0, 0, 1, 1, 0, 0, 1, 1, 0, 0, 1, 0, 1, 0, 0, 0, 0, 0, 0, 0, 1, 1, 0, 0, 1, 1, 0, 0, 1, 1, 0, 1, 0, 1, 0, 1, 0, 1, 0, 1, 0, 0, 0, 1, 1]\n",
      "number of 1 : 192\n",
      "number of 0 : 354\n"
     ]
    }
   ],
   "source": [
    "y_pred = model.predict(x_train)\n",
    "print(y_pred)\n",
    "count_0 = 0\n",
    "count_1 = 0\n",
    "for i in y_pred:\n",
    "    if i == 0:\n",
    "        count_0 += 1\n",
    "    else:\n",
    "        count_1 += 1\n",
    "print('number of 1 :', count_1)\n",
    "print('number of 0 :', count_0)\n"
   ]
  },
  {
   "cell_type": "markdown",
   "metadata": {},
   "source": [
    "### Accuracy"
   ]
  },
  {
   "cell_type": "code",
   "execution_count": 12,
   "metadata": {},
   "outputs": [
    {
     "name": "stdout",
     "output_type": "stream",
     "text": [
      "accuracy train: 0.9725274725274725\n"
     ]
    }
   ],
   "source": [
    "acc = model.accuracy(y_train, y_pred)\n",
    "print(\"accuracy train:\", acc)"
   ]
  },
  {
   "cell_type": "code",
   "execution_count": 13,
   "metadata": {},
   "outputs": [
    {
     "name": "stdout",
     "output_type": "stream",
     "text": [
      "accuracy test: 0.948905109489051\n"
     ]
    }
   ],
   "source": [
    "y_pred_test = model.predict(x_test)\n",
    "acc = model.accuracy(y_test, y_pred_test)\n",
    "print(\"accuracy test:\", acc)"
   ]
  },
  {
   "cell_type": "markdown",
   "metadata": {},
   "source": [
    "### Loss"
   ]
  },
  {
   "cell_type": "code",
   "execution_count": 14,
   "metadata": {},
   "outputs": [
    {
     "name": "stdout",
     "output_type": "stream",
     "text": [
      "loss train : 0.9488835924824047\n"
     ]
    }
   ],
   "source": [
    "loss_train = model.calculate_loss(y_train, y_pred)\n",
    "print(\"loss train :\", loss_train)"
   ]
  },
  {
   "cell_type": "code",
   "execution_count": 15,
   "metadata": {},
   "outputs": [
    {
     "name": "stdout",
     "output_type": "stream",
     "text": [
      "loss test : 1.7647841806680715\n"
     ]
    }
   ],
   "source": [
    "loss_test = model.calculate_loss(y_test, y_pred_test)\n",
    "print(\"loss test :\", loss_test)"
   ]
  }
 ],
 "metadata": {
  "kernelspec": {
   "display_name": "Python 3",
   "language": "python",
   "name": "python3"
  },
  "language_info": {
   "codemirror_mode": {
    "name": "ipython",
    "version": 3
   },
   "file_extension": ".py",
   "mimetype": "text/x-python",
   "name": "python",
   "nbconvert_exporter": "python",
   "pygments_lexer": "ipython3",
   "version": "3.12.5"
  }
 },
 "nbformat": 4,
 "nbformat_minor": 2
}
